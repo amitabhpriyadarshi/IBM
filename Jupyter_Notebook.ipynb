{
 "cells": [
  {
   "cell_type": "markdown",
   "metadata": {},
   "source": [
    "<center>\n",
    "    <img src=\"https://cf-courses-data.s3.us.cloud-object-storage.appdomain.cloud/IBMDeveloperSkillsNetwork-DS0105EN-SkillsNetwork/labs/Module2/images/SN_web_lightmode.png\" width=\"300\" alt=\"cognitiveclass.ai logo\">\n",
    "</center>\n"
   ]
  },
  {
   "cell_type": "markdown",
   "metadata": {},
   "source": [
    "#### Add your code below following the instructions given in the course\n"
   ]
  },
  {
   "cell_type": "markdown",
   "metadata": {},
   "source": [
    "# MY Jupyter notebook"
   ]
  },
  {
   "cell_type": "markdown",
   "metadata": {},
   "source": [
    "## Introduction"
   ]
  },
  {
   "cell_type": "markdown",
   "metadata": {},
   "source": [
    "### List of data science language \n",
    "<ol>\n",
    "  <li>Python.</li>\n",
    "  <li>Scala.</li>\n",
    "  <li>Go.</li>\n",
    "  <li>R.</li>\n",
    "</ol>\n"
   ]
  },
  {
   "cell_type": "markdown",
   "metadata": {},
   "source": [
    "### List of data science Library \n",
    "<ol>\n",
    "  <li>SciKit-Learn.</li>\n",
    "  <li>SciPy.</li>\n",
    "  <li>Pandas.</li>\n",
    "  <li>PyTorch.</li>\n",
    "    <li>NumPy.</li>\n",
    "  <li>Keras.</li>\n",
    "  <li>Scrapy.</li>\n",
    "</ol>"
   ]
  },
  {
   "cell_type": "markdown",
   "metadata": {},
   "source": [
    "### Table of data science tools\n",
    "\n",
    "| Tools |\n",
    "| --- |\n",
    "| Tensorflow |\n",
    "| PyTorch |\n",
    "| Dataiku |\n",
    "| RapidMiner |\n",
    "| Lumen Data |"
   ]
  },
  {
   "cell_type": "markdown",
   "metadata": {},
   "source": [
    "(6 (3 + 4))"
   ]
  },
  {
   "cell_type": "code",
   "execution_count": 2,
   "metadata": {},
   "outputs": [
    {
     "name": "stdout",
     "output_type": "stream",
     "text": [
      "12\n",
      "7\n"
     ]
    }
   ],
   "source": [
    "m = 4*3\n",
    "a = 4+3\n",
    "print(m)\n",
    "print(a)"
   ]
  },
  {
   "cell_type": "code",
   "execution_count": 6,
   "metadata": {},
   "outputs": [
    {
     "name": "stdout",
     "output_type": "stream",
     "text": [
      "3\n"
     ]
    }
   ],
   "source": [
    "minutes = 180\n",
    "hour = int(minutes/60)\n",
    "print(hour)"
   ]
  },
  {
   "cell_type": "markdown",
   "metadata": {},
   "source": [
    "### List of objective \n",
    "<ul>\n",
    "  <li>objective1.</li>\n",
    "  <li>objective2.</li>\n",
    "  <li>objective3.</li>\n",
    "  <li>objective4.</li>\n",
    "</ul>"
   ]
  },
  {
   "cell_type": "markdown",
   "metadata": {},
   "source": [
    "@author - Amitabh Priyadarshi"
   ]
  },
  {
   "cell_type": "code",
   "execution_count": null,
   "metadata": {},
   "outputs": [],
   "source": []
  }
 ],
 "metadata": {
  "kernelspec": {
   "display_name": "Python",
   "language": "python",
   "name": "conda-env-python-py"
  },
  "language_info": {
   "codemirror_mode": {
    "name": "ipython",
    "version": 3
   },
   "file_extension": ".py",
   "mimetype": "text/x-python",
   "name": "python",
   "nbconvert_exporter": "python",
   "pygments_lexer": "ipython3",
   "version": "3.7.12"
  }
 },
 "nbformat": 4,
 "nbformat_minor": 4
}
